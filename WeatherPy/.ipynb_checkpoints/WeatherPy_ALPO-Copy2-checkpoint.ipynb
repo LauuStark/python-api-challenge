{
 "cells": [
  {
   "cell_type": "markdown",
   "metadata": {},
   "source": [
    "# WeatherPy\n",
    "----\n",
    "\n",
    "#### Note\n",
    "* Instructions have been included for each segment. You do not have to follow them exactly, but they are included to help you think through the steps."
   ]
  },
  {
   "cell_type": "code",
   "execution_count": 1,
   "metadata": {
    "scrolled": true
   },
   "outputs": [],
   "source": [
    "# Dependencies and Setup\n",
    "import matplotlib.pyplot as plt\n",
    "import pandas as pd\n",
    "import numpy as np\n",
    "import requests\n",
    "import time\n",
    "from scipy.stats import linregress\n",
    "import json\n",
    "from pprint import pprint\n",
    "\n",
    "# Import API key\n",
    "from api_keys import weather_api_key\n",
    "\n",
    "# Incorporated citipy to determine city based on latitude and longitude\n",
    "from citipy import citipy\n",
    "\n",
    "# Output File (CSV)\n",
    "output_data_file = \"output_data/cities.csv\"\n",
    "\n",
    "# Range of latitudes and longitudes\n",
    "lat_range = (-90, 90)\n",
    "lng_range = (-180, 180)"
   ]
  },
  {
   "cell_type": "markdown",
   "metadata": {},
   "source": [
    "## Generate Cities List"
   ]
  },
  {
   "cell_type": "code",
   "execution_count": 2,
   "metadata": {},
   "outputs": [
    {
     "data": {
      "text/plain": [
       "597"
      ]
     },
     "execution_count": 2,
     "metadata": {},
     "output_type": "execute_result"
    }
   ],
   "source": [
    "# List for holding lat_lngs and cities\n",
    "lat_lngs = []\n",
    "cities = []\n",
    "\n",
    "# Create a set of random lat and lng combinations\n",
    "lats = np.random.uniform(lat_range[0], lat_range[1], size=1500)\n",
    "lngs = np.random.uniform(lng_range[0], lng_range[1], size=1500)\n",
    "lat_lngs = zip(lats, lngs)\n",
    "\n",
    "# Identify nearest city for each lat, lng combination\n",
    "for lat_lng in lat_lngs:\n",
    "    city = citipy.nearest_city(lat_lng[0], lat_lng[1]).city_name\n",
    "    \n",
    "    # If the city is unique, then add it to a our cities list\n",
    "    if city not in cities:\n",
    "        cities.append(city)\n",
    "\n",
    "# Print the city count to confirm sufficient count\n",
    "len(cities)"
   ]
  },
  {
   "cell_type": "code",
   "execution_count": null,
   "metadata": {},
   "outputs": [],
   "source": [
    "cities"
   ]
  },
  {
   "cell_type": "markdown",
   "metadata": {},
   "source": [
    "### Perform API Calls\n",
    "* Perform a weather check on each city using a series of successive API calls.\n",
    "* Include a print log of each city as it'sbeing processed (with the city number and city name).\n"
   ]
  },
  {
   "cell_type": "code",
   "execution_count": 32,
   "metadata": {},
   "outputs": [],
   "source": [
    "res = []\n",
    "for city in cities:\n",
    "    url = \"http://api.openweathermap.org/data/2.5/weather?\"\n",
    "    query_url = url + \"appid=\" + weather_api_key + \"&q=\" + city\n",
    "    weather_response = requests.get(query_url).json()\n",
    "    res.append(weather_response)\n",
    "    #print(weather_response)\n",
    "    \n",
    "\n"
   ]
  },
  {
   "cell_type": "markdown",
   "metadata": {},
   "source": [
    "### Convert Raw Data to DataFrame\n",
    "* Export the city data into a .csv.\n",
    "* Display the DataFrame"
   ]
  },
  {
   "cell_type": "code",
   "execution_count": 63,
   "metadata": {},
   "outputs": [
    {
     "data": {
      "text/html": [
       "<div>\n",
       "<style scoped>\n",
       "    .dataframe tbody tr th:only-of-type {\n",
       "        vertical-align: middle;\n",
       "    }\n",
       "\n",
       "    .dataframe tbody tr th {\n",
       "        vertical-align: top;\n",
       "    }\n",
       "\n",
       "    .dataframe thead th {\n",
       "        text-align: right;\n",
       "    }\n",
       "</style>\n",
       "<table border=\"1\" class=\"dataframe\">\n",
       "  <thead>\n",
       "    <tr style=\"text-align: right;\">\n",
       "      <th></th>\n",
       "      <th>coord</th>\n",
       "      <th>weather</th>\n",
       "      <th>base</th>\n",
       "      <th>main</th>\n",
       "      <th>visibility</th>\n",
       "      <th>wind</th>\n",
       "      <th>clouds</th>\n",
       "      <th>dt</th>\n",
       "      <th>sys</th>\n",
       "      <th>timezone</th>\n",
       "      <th>id</th>\n",
       "      <th>name</th>\n",
       "      <th>cod</th>\n",
       "      <th>rain</th>\n",
       "      <th>message</th>\n",
       "    </tr>\n",
       "  </thead>\n",
       "  <tbody>\n",
       "    <tr>\n",
       "      <th>0</th>\n",
       "      <td>{'lon': 114.6, 'lat': -28.77}</td>\n",
       "      <td>[{'id': 802, 'main': 'Clouds', 'description': ...</td>\n",
       "      <td>stations</td>\n",
       "      <td>{'temp': 281.15, 'feels_like': 277.22, 'temp_m...</td>\n",
       "      <td>10000.0</td>\n",
       "      <td>{'speed': 4.6, 'deg': 130}</td>\n",
       "      <td>{'all': 26}</td>\n",
       "      <td>1.596328e+09</td>\n",
       "      <td>{'type': 1, 'id': 9522, 'country': 'AU', 'sunr...</td>\n",
       "      <td>28800.0</td>\n",
       "      <td>2070998.0</td>\n",
       "      <td>Geraldton</td>\n",
       "      <td>200</td>\n",
       "      <td>NaN</td>\n",
       "      <td>NaN</td>\n",
       "    </tr>\n",
       "    <tr>\n",
       "      <th>1</th>\n",
       "      <td>{'lon': -139.03, 'lat': -9.8}</td>\n",
       "      <td>[{'id': 500, 'main': 'Rain', 'description': 'l...</td>\n",
       "      <td>stations</td>\n",
       "      <td>{'temp': 299.64, 'feels_like': 298.68, 'temp_m...</td>\n",
       "      <td>10000.0</td>\n",
       "      <td>{'speed': 7.53, 'deg': 92}</td>\n",
       "      <td>{'all': 97}</td>\n",
       "      <td>1.596328e+09</td>\n",
       "      <td>{'country': 'PF', 'sunrise': 1596295891, 'suns...</td>\n",
       "      <td>-34200.0</td>\n",
       "      <td>4020109.0</td>\n",
       "      <td>Atuona</td>\n",
       "      <td>200</td>\n",
       "      <td>{'1h': 0.11}</td>\n",
       "      <td>NaN</td>\n",
       "    </tr>\n",
       "    <tr>\n",
       "      <th>2</th>\n",
       "      <td>{'lon': 100.34, 'lat': 5.41}</td>\n",
       "      <td>[{'id': 500, 'main': 'Rain', 'description': 'l...</td>\n",
       "      <td>stations</td>\n",
       "      <td>{'temp': 297.63, 'feels_like': 301.66, 'temp_m...</td>\n",
       "      <td>6000.0</td>\n",
       "      <td>{'speed': 2.1, 'deg': 70}</td>\n",
       "      <td>{'all': 40}</td>\n",
       "      <td>1.596328e+09</td>\n",
       "      <td>{'type': 1, 'id': 9429, 'country': 'MY', 'sunr...</td>\n",
       "      <td>28800.0</td>\n",
       "      <td>1735106.0</td>\n",
       "      <td>George Town</td>\n",
       "      <td>200</td>\n",
       "      <td>NaN</td>\n",
       "      <td>NaN</td>\n",
       "    </tr>\n",
       "    <tr>\n",
       "      <th>3</th>\n",
       "      <td>{'lon': -73.97, 'lat': 42.6}</td>\n",
       "      <td>[{'id': 803, 'main': 'Clouds', 'description': ...</td>\n",
       "      <td>stations</td>\n",
       "      <td>{'temp': 298.24, 'feels_like': 299.56, 'temp_m...</td>\n",
       "      <td>10000.0</td>\n",
       "      <td>{'speed': 0.49, 'deg': 183}</td>\n",
       "      <td>{'all': 76}</td>\n",
       "      <td>1.596328e+09</td>\n",
       "      <td>{'type': 3, 'id': 19530, 'country': 'US', 'sun...</td>\n",
       "      <td>-14400.0</td>\n",
       "      <td>5106841.0</td>\n",
       "      <td>Albany</td>\n",
       "      <td>200</td>\n",
       "      <td>NaN</td>\n",
       "      <td>NaN</td>\n",
       "    </tr>\n",
       "    <tr>\n",
       "      <th>4</th>\n",
       "      <td>NaN</td>\n",
       "      <td>NaN</td>\n",
       "      <td>NaN</td>\n",
       "      <td>NaN</td>\n",
       "      <td>NaN</td>\n",
       "      <td>NaN</td>\n",
       "      <td>NaN</td>\n",
       "      <td>NaN</td>\n",
       "      <td>NaN</td>\n",
       "      <td>NaN</td>\n",
       "      <td>NaN</td>\n",
       "      <td>NaN</td>\n",
       "      <td>404</td>\n",
       "      <td>NaN</td>\n",
       "      <td>city not found</td>\n",
       "    </tr>\n",
       "  </tbody>\n",
       "</table>\n",
       "</div>"
      ],
      "text/plain": [
       "                           coord  \\\n",
       "0  {'lon': 114.6, 'lat': -28.77}   \n",
       "1  {'lon': -139.03, 'lat': -9.8}   \n",
       "2   {'lon': 100.34, 'lat': 5.41}   \n",
       "3   {'lon': -73.97, 'lat': 42.6}   \n",
       "4                            NaN   \n",
       "\n",
       "                                             weather      base  \\\n",
       "0  [{'id': 802, 'main': 'Clouds', 'description': ...  stations   \n",
       "1  [{'id': 500, 'main': 'Rain', 'description': 'l...  stations   \n",
       "2  [{'id': 500, 'main': 'Rain', 'description': 'l...  stations   \n",
       "3  [{'id': 803, 'main': 'Clouds', 'description': ...  stations   \n",
       "4                                                NaN       NaN   \n",
       "\n",
       "                                                main  visibility  \\\n",
       "0  {'temp': 281.15, 'feels_like': 277.22, 'temp_m...     10000.0   \n",
       "1  {'temp': 299.64, 'feels_like': 298.68, 'temp_m...     10000.0   \n",
       "2  {'temp': 297.63, 'feels_like': 301.66, 'temp_m...      6000.0   \n",
       "3  {'temp': 298.24, 'feels_like': 299.56, 'temp_m...     10000.0   \n",
       "4                                                NaN         NaN   \n",
       "\n",
       "                          wind       clouds            dt  \\\n",
       "0   {'speed': 4.6, 'deg': 130}  {'all': 26}  1.596328e+09   \n",
       "1   {'speed': 7.53, 'deg': 92}  {'all': 97}  1.596328e+09   \n",
       "2    {'speed': 2.1, 'deg': 70}  {'all': 40}  1.596328e+09   \n",
       "3  {'speed': 0.49, 'deg': 183}  {'all': 76}  1.596328e+09   \n",
       "4                          NaN          NaN           NaN   \n",
       "\n",
       "                                                 sys  timezone         id  \\\n",
       "0  {'type': 1, 'id': 9522, 'country': 'AU', 'sunr...   28800.0  2070998.0   \n",
       "1  {'country': 'PF', 'sunrise': 1596295891, 'suns...  -34200.0  4020109.0   \n",
       "2  {'type': 1, 'id': 9429, 'country': 'MY', 'sunr...   28800.0  1735106.0   \n",
       "3  {'type': 3, 'id': 19530, 'country': 'US', 'sun...  -14400.0  5106841.0   \n",
       "4                                                NaN       NaN        NaN   \n",
       "\n",
       "          name  cod          rain         message  \n",
       "0    Geraldton  200           NaN             NaN  \n",
       "1       Atuona  200  {'1h': 0.11}             NaN  \n",
       "2  George Town  200           NaN             NaN  \n",
       "3       Albany  200           NaN             NaN  \n",
       "4          NaN  404           NaN  city not found  "
      ]
     },
     "execution_count": 63,
     "metadata": {},
     "output_type": "execute_result"
    }
   ],
   "source": [
    "w_df = pd.DataFrame(res)\n",
    "w_df.head()"
   ]
  },
  {
   "cell_type": "code",
   "execution_count": 64,
   "metadata": {},
   "outputs": [],
   "source": [
    "w_df = pd.concat([w_df.drop(['coord'], axis=1), w_df['coord'].apply(pd.Series)], axis=1)"
   ]
  },
  {
   "cell_type": "code",
   "execution_count": 65,
   "metadata": {},
   "outputs": [],
   "source": [
    "w_df = pd.concat([w_df.drop(['main'], axis=1), w_df['main'].apply(pd.Series)], axis=1)"
   ]
  },
  {
   "cell_type": "code",
   "execution_count": 66,
   "metadata": {},
   "outputs": [],
   "source": [
    "w_df = pd.concat([w_df.drop(['clouds'], axis=1), w_df['clouds'].apply(pd.Series)], axis=1)"
   ]
  },
  {
   "cell_type": "code",
   "execution_count": 67,
   "metadata": {},
   "outputs": [],
   "source": [
    "w_df = pd.concat([w_df.drop(['wind'], axis=1), w_df['wind'].apply(pd.Series)], axis=1)"
   ]
  },
  {
   "cell_type": "code",
   "execution_count": 68,
   "metadata": {},
   "outputs": [],
   "source": [
    "w_df = pd.concat([w_df.drop(['sys'], axis=1), w_df['sys'].apply(pd.Series)], axis=1)"
   ]
  },
  {
   "cell_type": "code",
   "execution_count": 70,
   "metadata": {},
   "outputs": [
    {
     "data": {
      "text/html": [
       "<div>\n",
       "<style scoped>\n",
       "    .dataframe tbody tr th:only-of-type {\n",
       "        vertical-align: middle;\n",
       "    }\n",
       "\n",
       "    .dataframe tbody tr th {\n",
       "        vertical-align: top;\n",
       "    }\n",
       "\n",
       "    .dataframe thead th {\n",
       "        text-align: right;\n",
       "    }\n",
       "</style>\n",
       "<table border=\"1\" class=\"dataframe\">\n",
       "  <thead>\n",
       "    <tr style=\"text-align: right;\">\n",
       "      <th></th>\n",
       "      <th>name</th>\n",
       "      <th>lat</th>\n",
       "      <th>lon</th>\n",
       "      <th>temp_max</th>\n",
       "      <th>humidity</th>\n",
       "      <th>all</th>\n",
       "      <th>speed</th>\n",
       "      <th>country</th>\n",
       "      <th>dt</th>\n",
       "    </tr>\n",
       "  </thead>\n",
       "  <tbody>\n",
       "    <tr>\n",
       "      <th>0</th>\n",
       "      <td>Geraldton</td>\n",
       "      <td>-28.77</td>\n",
       "      <td>114.60</td>\n",
       "      <td>281.15</td>\n",
       "      <td>93.0</td>\n",
       "      <td>26.0</td>\n",
       "      <td>4.60</td>\n",
       "      <td>AU</td>\n",
       "      <td>1.596328e+09</td>\n",
       "    </tr>\n",
       "    <tr>\n",
       "      <th>1</th>\n",
       "      <td>Atuona</td>\n",
       "      <td>-9.80</td>\n",
       "      <td>-139.03</td>\n",
       "      <td>299.64</td>\n",
       "      <td>73.0</td>\n",
       "      <td>97.0</td>\n",
       "      <td>7.53</td>\n",
       "      <td>PF</td>\n",
       "      <td>1.596328e+09</td>\n",
       "    </tr>\n",
       "    <tr>\n",
       "      <th>2</th>\n",
       "      <td>George Town</td>\n",
       "      <td>5.41</td>\n",
       "      <td>100.34</td>\n",
       "      <td>298.15</td>\n",
       "      <td>94.0</td>\n",
       "      <td>40.0</td>\n",
       "      <td>2.10</td>\n",
       "      <td>MY</td>\n",
       "      <td>1.596328e+09</td>\n",
       "    </tr>\n",
       "    <tr>\n",
       "      <th>3</th>\n",
       "      <td>Albany</td>\n",
       "      <td>42.60</td>\n",
       "      <td>-73.97</td>\n",
       "      <td>300.93</td>\n",
       "      <td>54.0</td>\n",
       "      <td>76.0</td>\n",
       "      <td>0.49</td>\n",
       "      <td>US</td>\n",
       "      <td>1.596328e+09</td>\n",
       "    </tr>\n",
       "    <tr>\n",
       "      <th>4</th>\n",
       "      <td>NaN</td>\n",
       "      <td>NaN</td>\n",
       "      <td>NaN</td>\n",
       "      <td>NaN</td>\n",
       "      <td>NaN</td>\n",
       "      <td>NaN</td>\n",
       "      <td>NaN</td>\n",
       "      <td>NaN</td>\n",
       "      <td>NaN</td>\n",
       "    </tr>\n",
       "  </tbody>\n",
       "</table>\n",
       "</div>"
      ],
      "text/plain": [
       "          name    lat     lon  temp_max  humidity   all  speed country  \\\n",
       "0    Geraldton -28.77  114.60    281.15      93.0  26.0   4.60      AU   \n",
       "1       Atuona  -9.80 -139.03    299.64      73.0  97.0   7.53      PF   \n",
       "2  George Town   5.41  100.34    298.15      94.0  40.0   2.10      MY   \n",
       "3       Albany  42.60  -73.97    300.93      54.0  76.0   0.49      US   \n",
       "4          NaN    NaN     NaN       NaN       NaN   NaN    NaN     NaN   \n",
       "\n",
       "             dt  \n",
       "0  1.596328e+09  \n",
       "1  1.596328e+09  \n",
       "2  1.596328e+09  \n",
       "3  1.596328e+09  \n",
       "4           NaN  "
      ]
     },
     "execution_count": 70,
     "metadata": {},
     "output_type": "execute_result"
    }
   ],
   "source": [
    "w_df = w_df[[\"name\",\"lat\",\"lon\",\"temp_max\",\"humidity\",\"all\",\"speed\",\"country\",\"dt\"]]\n",
    "w_df.head()"
   ]
  },
  {
   "cell_type": "code",
   "execution_count": 73,
   "metadata": {},
   "outputs": [],
   "source": [
    "w_df = w_df.rename(columns={\"name\":\"City\",\"lat\":\"Lat\",\"lon\":\"Lng\",\"temp_max\":\"Max Temp\",\"humidity\":\"Humidity\",\"all\":\"Cloudiness\",\"speed\":\"Wind Speed\",\"country\":\"Country\",\"dt\":\"Date\"})"
   ]
  },
  {
   "cell_type": "code",
   "execution_count": 74,
   "metadata": {},
   "outputs": [
    {
     "data": {
      "text/html": [
       "<div>\n",
       "<style scoped>\n",
       "    .dataframe tbody tr th:only-of-type {\n",
       "        vertical-align: middle;\n",
       "    }\n",
       "\n",
       "    .dataframe tbody tr th {\n",
       "        vertical-align: top;\n",
       "    }\n",
       "\n",
       "    .dataframe thead th {\n",
       "        text-align: right;\n",
       "    }\n",
       "</style>\n",
       "<table border=\"1\" class=\"dataframe\">\n",
       "  <thead>\n",
       "    <tr style=\"text-align: right;\">\n",
       "      <th></th>\n",
       "      <th>City</th>\n",
       "      <th>Lat</th>\n",
       "      <th>Lng</th>\n",
       "      <th>Max Temp</th>\n",
       "      <th>Humidity</th>\n",
       "      <th>Cloudiness</th>\n",
       "      <th>Wind Speed</th>\n",
       "      <th>Country</th>\n",
       "      <th>Date</th>\n",
       "    </tr>\n",
       "  </thead>\n",
       "  <tbody>\n",
       "    <tr>\n",
       "      <th>0</th>\n",
       "      <td>Geraldton</td>\n",
       "      <td>-28.77</td>\n",
       "      <td>114.60</td>\n",
       "      <td>281.15</td>\n",
       "      <td>93.0</td>\n",
       "      <td>26.0</td>\n",
       "      <td>4.60</td>\n",
       "      <td>AU</td>\n",
       "      <td>1.596328e+09</td>\n",
       "    </tr>\n",
       "    <tr>\n",
       "      <th>1</th>\n",
       "      <td>Atuona</td>\n",
       "      <td>-9.80</td>\n",
       "      <td>-139.03</td>\n",
       "      <td>299.64</td>\n",
       "      <td>73.0</td>\n",
       "      <td>97.0</td>\n",
       "      <td>7.53</td>\n",
       "      <td>PF</td>\n",
       "      <td>1.596328e+09</td>\n",
       "    </tr>\n",
       "    <tr>\n",
       "      <th>2</th>\n",
       "      <td>George Town</td>\n",
       "      <td>5.41</td>\n",
       "      <td>100.34</td>\n",
       "      <td>298.15</td>\n",
       "      <td>94.0</td>\n",
       "      <td>40.0</td>\n",
       "      <td>2.10</td>\n",
       "      <td>MY</td>\n",
       "      <td>1.596328e+09</td>\n",
       "    </tr>\n",
       "    <tr>\n",
       "      <th>3</th>\n",
       "      <td>Albany</td>\n",
       "      <td>42.60</td>\n",
       "      <td>-73.97</td>\n",
       "      <td>300.93</td>\n",
       "      <td>54.0</td>\n",
       "      <td>76.0</td>\n",
       "      <td>0.49</td>\n",
       "      <td>US</td>\n",
       "      <td>1.596328e+09</td>\n",
       "    </tr>\n",
       "    <tr>\n",
       "      <th>5</th>\n",
       "      <td>Puerto Ayora</td>\n",
       "      <td>-0.74</td>\n",
       "      <td>-90.35</td>\n",
       "      <td>293.71</td>\n",
       "      <td>92.0</td>\n",
       "      <td>83.0</td>\n",
       "      <td>0.89</td>\n",
       "      <td>EC</td>\n",
       "      <td>1.596328e+09</td>\n",
       "    </tr>\n",
       "    <tr>\n",
       "      <th>...</th>\n",
       "      <td>...</td>\n",
       "      <td>...</td>\n",
       "      <td>...</td>\n",
       "      <td>...</td>\n",
       "      <td>...</td>\n",
       "      <td>...</td>\n",
       "      <td>...</td>\n",
       "      <td>...</td>\n",
       "      <td>...</td>\n",
       "    </tr>\n",
       "    <tr>\n",
       "      <th>591</th>\n",
       "      <td>Takoradze</td>\n",
       "      <td>4.88</td>\n",
       "      <td>-1.76</td>\n",
       "      <td>296.35</td>\n",
       "      <td>86.0</td>\n",
       "      <td>0.0</td>\n",
       "      <td>3.64</td>\n",
       "      <td>GH</td>\n",
       "      <td>1.596328e+09</td>\n",
       "    </tr>\n",
       "    <tr>\n",
       "      <th>593</th>\n",
       "      <td>Kuito</td>\n",
       "      <td>-12.38</td>\n",
       "      <td>16.93</td>\n",
       "      <td>286.03</td>\n",
       "      <td>50.0</td>\n",
       "      <td>0.0</td>\n",
       "      <td>2.95</td>\n",
       "      <td>AO</td>\n",
       "      <td>1.596328e+09</td>\n",
       "    </tr>\n",
       "    <tr>\n",
       "      <th>594</th>\n",
       "      <td>London</td>\n",
       "      <td>51.51</td>\n",
       "      <td>-0.13</td>\n",
       "      <td>292.15</td>\n",
       "      <td>55.0</td>\n",
       "      <td>54.0</td>\n",
       "      <td>5.70</td>\n",
       "      <td>GB</td>\n",
       "      <td>1.596328e+09</td>\n",
       "    </tr>\n",
       "    <tr>\n",
       "      <th>595</th>\n",
       "      <td>Cuiluan</td>\n",
       "      <td>47.72</td>\n",
       "      <td>128.65</td>\n",
       "      <td>298.31</td>\n",
       "      <td>85.0</td>\n",
       "      <td>89.0</td>\n",
       "      <td>1.90</td>\n",
       "      <td>CN</td>\n",
       "      <td>1.596328e+09</td>\n",
       "    </tr>\n",
       "    <tr>\n",
       "      <th>596</th>\n",
       "      <td>Bowen</td>\n",
       "      <td>-20.02</td>\n",
       "      <td>148.23</td>\n",
       "      <td>295.15</td>\n",
       "      <td>64.0</td>\n",
       "      <td>90.0</td>\n",
       "      <td>9.30</td>\n",
       "      <td>AU</td>\n",
       "      <td>1.596328e+09</td>\n",
       "    </tr>\n",
       "  </tbody>\n",
       "</table>\n",
       "<p>550 rows × 9 columns</p>\n",
       "</div>"
      ],
      "text/plain": [
       "             City    Lat     Lng  Max Temp  Humidity  Cloudiness  Wind Speed  \\\n",
       "0       Geraldton -28.77  114.60    281.15      93.0        26.0        4.60   \n",
       "1          Atuona  -9.80 -139.03    299.64      73.0        97.0        7.53   \n",
       "2     George Town   5.41  100.34    298.15      94.0        40.0        2.10   \n",
       "3          Albany  42.60  -73.97    300.93      54.0        76.0        0.49   \n",
       "5    Puerto Ayora  -0.74  -90.35    293.71      92.0        83.0        0.89   \n",
       "..            ...    ...     ...       ...       ...         ...         ...   \n",
       "591     Takoradze   4.88   -1.76    296.35      86.0         0.0        3.64   \n",
       "593         Kuito -12.38   16.93    286.03      50.0         0.0        2.95   \n",
       "594        London  51.51   -0.13    292.15      55.0        54.0        5.70   \n",
       "595       Cuiluan  47.72  128.65    298.31      85.0        89.0        1.90   \n",
       "596         Bowen -20.02  148.23    295.15      64.0        90.0        9.30   \n",
       "\n",
       "    Country          Date  \n",
       "0        AU  1.596328e+09  \n",
       "1        PF  1.596328e+09  \n",
       "2        MY  1.596328e+09  \n",
       "3        US  1.596328e+09  \n",
       "5        EC  1.596328e+09  \n",
       "..      ...           ...  \n",
       "591      GH  1.596328e+09  \n",
       "593      AO  1.596328e+09  \n",
       "594      GB  1.596328e+09  \n",
       "595      CN  1.596328e+09  \n",
       "596      AU  1.596328e+09  \n",
       "\n",
       "[550 rows x 9 columns]"
      ]
     },
     "execution_count": 74,
     "metadata": {},
     "output_type": "execute_result"
    }
   ],
   "source": [
    "w_df = w_df.dropna(how='all')\n",
    "w_df"
   ]
  },
  {
   "cell_type": "code",
   "execution_count": 69,
   "metadata": {},
   "outputs": [],
   "source": [
    "w_df.to_csv('results.csv')"
   ]
  },
  {
   "cell_type": "markdown",
   "metadata": {},
   "source": [
    "## Inspect the data and remove the cities where the humidity > 100%.\n",
    "----\n",
    "Skip this step if there are no cities that have humidity > 100%. "
   ]
  },
  {
   "cell_type": "code",
   "execution_count": null,
   "metadata": {},
   "outputs": [],
   "source": []
  },
  {
   "cell_type": "code",
   "execution_count": null,
   "metadata": {},
   "outputs": [],
   "source": [
    "#  Get the indices of cities that have humidity over 100%.\n"
   ]
  },
  {
   "cell_type": "code",
   "execution_count": null,
   "metadata": {},
   "outputs": [],
   "source": [
    "# Make a new DataFrame equal to the city data to drop all humidity outliers by index.\n",
    "# Passing \"inplace=False\" will make a copy of the city_data DataFrame, which we call \"clean_city_data\".\n"
   ]
  },
  {
   "cell_type": "code",
   "execution_count": null,
   "metadata": {},
   "outputs": [],
   "source": [
    "# Extract relevant fields from the data frame\n",
    "\n",
    "\n",
    "# Export the City_Data into a csv\n"
   ]
  },
  {
   "cell_type": "markdown",
   "metadata": {},
   "source": [
    "## Plotting the Data\n",
    "* Use proper labeling of the plots using plot titles (including date of analysis) and axes labels.\n",
    "* Save the plotted figures as .pngs."
   ]
  },
  {
   "cell_type": "markdown",
   "metadata": {},
   "source": [
    "## Latitude vs. Temperature Plot"
   ]
  },
  {
   "cell_type": "code",
   "execution_count": null,
   "metadata": {
    "scrolled": true
   },
   "outputs": [],
   "source": []
  },
  {
   "cell_type": "markdown",
   "metadata": {},
   "source": [
    "## Latitude vs. Humidity Plot"
   ]
  },
  {
   "cell_type": "code",
   "execution_count": null,
   "metadata": {},
   "outputs": [],
   "source": []
  },
  {
   "cell_type": "markdown",
   "metadata": {},
   "source": [
    "## Latitude vs. Cloudiness Plot"
   ]
  },
  {
   "cell_type": "code",
   "execution_count": null,
   "metadata": {},
   "outputs": [],
   "source": []
  },
  {
   "cell_type": "markdown",
   "metadata": {},
   "source": [
    "## Latitude vs. Wind Speed Plot"
   ]
  },
  {
   "cell_type": "code",
   "execution_count": null,
   "metadata": {},
   "outputs": [],
   "source": []
  },
  {
   "cell_type": "markdown",
   "metadata": {},
   "source": [
    "## Linear Regression"
   ]
  },
  {
   "cell_type": "code",
   "execution_count": null,
   "metadata": {},
   "outputs": [],
   "source": [
    "# OPTIONAL: Create a function to create Linear Regression plots"
   ]
  },
  {
   "cell_type": "code",
   "execution_count": null,
   "metadata": {},
   "outputs": [],
   "source": [
    "# Create Northern and Southern Hemisphere DataFrames"
   ]
  },
  {
   "cell_type": "markdown",
   "metadata": {},
   "source": [
    "####  Northern Hemisphere - Max Temp vs. Latitude Linear Regression"
   ]
  },
  {
   "cell_type": "code",
   "execution_count": null,
   "metadata": {},
   "outputs": [],
   "source": []
  },
  {
   "cell_type": "markdown",
   "metadata": {},
   "source": [
    "####  Southern Hemisphere - Max Temp vs. Latitude Linear Regression"
   ]
  },
  {
   "cell_type": "code",
   "execution_count": null,
   "metadata": {},
   "outputs": [],
   "source": []
  },
  {
   "cell_type": "markdown",
   "metadata": {},
   "source": [
    "####  Northern Hemisphere - Humidity (%) vs. Latitude Linear Regression"
   ]
  },
  {
   "cell_type": "code",
   "execution_count": null,
   "metadata": {},
   "outputs": [],
   "source": []
  },
  {
   "cell_type": "markdown",
   "metadata": {},
   "source": [
    "####  Southern Hemisphere - Humidity (%) vs. Latitude Linear Regression"
   ]
  },
  {
   "cell_type": "code",
   "execution_count": null,
   "metadata": {},
   "outputs": [],
   "source": []
  },
  {
   "cell_type": "markdown",
   "metadata": {},
   "source": [
    "####  Northern Hemisphere - Cloudiness (%) vs. Latitude Linear Regression"
   ]
  },
  {
   "cell_type": "code",
   "execution_count": null,
   "metadata": {},
   "outputs": [],
   "source": []
  },
  {
   "cell_type": "markdown",
   "metadata": {},
   "source": [
    "####  Southern Hemisphere - Cloudiness (%) vs. Latitude Linear Regression"
   ]
  },
  {
   "cell_type": "code",
   "execution_count": null,
   "metadata": {},
   "outputs": [],
   "source": []
  },
  {
   "cell_type": "markdown",
   "metadata": {},
   "source": [
    "####  Northern Hemisphere - Wind Speed (mph) vs. Latitude Linear Regression"
   ]
  },
  {
   "cell_type": "code",
   "execution_count": null,
   "metadata": {},
   "outputs": [],
   "source": []
  },
  {
   "cell_type": "markdown",
   "metadata": {},
   "source": [
    "####  Southern Hemisphere - Wind Speed (mph) vs. Latitude Linear Regression"
   ]
  },
  {
   "cell_type": "code",
   "execution_count": null,
   "metadata": {},
   "outputs": [],
   "source": []
  },
  {
   "cell_type": "code",
   "execution_count": null,
   "metadata": {},
   "outputs": [],
   "source": []
  }
 ],
 "metadata": {
  "anaconda-cloud": {},
  "kernel_info": {
   "name": "python3"
  },
  "kernelspec": {
   "display_name": "Python [conda env:PythonData1]",
   "language": "python",
   "name": "conda-env-PythonData1-py"
  },
  "language_info": {
   "codemirror_mode": {
    "name": "ipython",
    "version": 3
   },
   "file_extension": ".py",
   "mimetype": "text/x-python",
   "name": "python",
   "nbconvert_exporter": "python",
   "pygments_lexer": "ipython3",
   "version": "3.6.10"
  },
  "latex_envs": {
   "LaTeX_envs_menu_present": true,
   "autoclose": false,
   "autocomplete": true,
   "bibliofile": "biblio.bib",
   "cite_by": "apalike",
   "current_citInitial": 1,
   "eqLabelWithNumbers": true,
   "eqNumInitial": 1,
   "hotkeys": {
    "equation": "Ctrl-E",
    "itemize": "Ctrl-I"
   },
   "labels_anchors": false,
   "latex_user_defs": false,
   "report_style_numbering": false,
   "user_envs_cfg": false
  },
  "nteract": {
   "version": "0.12.3"
  }
 },
 "nbformat": 4,
 "nbformat_minor": 2
}

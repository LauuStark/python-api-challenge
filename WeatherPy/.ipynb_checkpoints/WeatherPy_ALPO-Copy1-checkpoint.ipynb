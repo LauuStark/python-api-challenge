{
 "cells": [
  {
   "cell_type": "markdown",
   "metadata": {},
   "source": [
    "# WeatherPy\n",
    "----\n",
    "\n",
    "#### Note\n",
    "* Instructions have been included for each segment. You do not have to follow them exactly, but they are included to help you think through the steps."
   ]
  },
  {
   "cell_type": "code",
   "execution_count": 1,
   "metadata": {
    "scrolled": true
   },
   "outputs": [],
   "source": [
    "# Dependencies and Setup\n",
    "import matplotlib.pyplot as plt\n",
    "import pandas as pd\n",
    "import numpy as np\n",
    "import requests\n",
    "import time\n",
    "from scipy.stats import linregress\n",
    "import json\n",
    "from pprint import pprint\n",
    "\n",
    "# Import API key\n",
    "from api_keys import weather_api_key\n",
    "\n",
    "# Incorporated citipy to determine city based on latitude and longitude\n",
    "from citipy import citipy\n",
    "\n",
    "# Output File (CSV)\n",
    "output_data_file = \"output_data/cities.csv\"\n",
    "\n",
    "# Range of latitudes and longitudes\n",
    "lat_range = (-90, 90)\n",
    "lng_range = (-180, 180)"
   ]
  },
  {
   "cell_type": "markdown",
   "metadata": {},
   "source": [
    "## Generate Cities List"
   ]
  },
  {
   "cell_type": "code",
   "execution_count": 2,
   "metadata": {},
   "outputs": [
    {
     "data": {
      "text/plain": [
       "597"
      ]
     },
     "execution_count": 2,
     "metadata": {},
     "output_type": "execute_result"
    }
   ],
   "source": [
    "# List for holding lat_lngs and cities\n",
    "lat_lngs = []\n",
    "cities = []\n",
    "\n",
    "# Create a set of random lat and lng combinations\n",
    "lats = np.random.uniform(lat_range[0], lat_range[1], size=1500)\n",
    "lngs = np.random.uniform(lng_range[0], lng_range[1], size=1500)\n",
    "lat_lngs = zip(lats, lngs)\n",
    "\n",
    "# Identify nearest city for each lat, lng combination\n",
    "for lat_lng in lat_lngs:\n",
    "    city = citipy.nearest_city(lat_lng[0], lat_lng[1]).city_name\n",
    "    \n",
    "    # If the city is unique, then add it to a our cities list\n",
    "    if city not in cities:\n",
    "        cities.append(city)\n",
    "\n",
    "# Print the city count to confirm sufficient count\n",
    "len(cities)"
   ]
  },
  {
   "cell_type": "code",
   "execution_count": null,
   "metadata": {},
   "outputs": [],
   "source": [
    "cities"
   ]
  },
  {
   "cell_type": "markdown",
   "metadata": {},
   "source": [
    "### Perform API Calls\n",
    "* Perform a weather check on each city using a series of successive API calls.\n",
    "* Include a print log of each city as it'sbeing processed (with the city number and city name).\n"
   ]
  },
  {
   "cell_type": "code",
   "execution_count": 32,
   "metadata": {},
   "outputs": [],
   "source": [
    "res = []\n",
    "for city in cities:\n",
    "    url = \"http://api.openweathermap.org/data/2.5/weather?\"\n",
    "    query_url = url + \"appid=\" + weather_api_key + \"&q=\" + city\n",
    "    weather_response = requests.get(query_url).json()\n",
    "    res.append(weather_response)\n",
    "    #print(weather_response)\n",
    "    \n",
    "\n"
   ]
  },
  {
   "cell_type": "markdown",
   "metadata": {},
   "source": [
    "### Convert Raw Data to DataFrame\n",
    "* Export the city data into a .csv.\n",
    "* Display the DataFrame"
   ]
  },
  {
   "cell_type": "code",
   "execution_count": 37,
   "metadata": {},
   "outputs": [
    {
     "name": "stdout",
     "output_type": "stream",
     "text": [
      "Geraldton\n"
     ]
    }
   ],
   "source": [
    "print(res[0]['name'])"
   ]
  },
  {
   "cell_type": "code",
   "execution_count": 35,
   "metadata": {},
   "outputs": [
    {
     "data": {
      "text/html": [
       "<div>\n",
       "<style scoped>\n",
       "    .dataframe tbody tr th:only-of-type {\n",
       "        vertical-align: middle;\n",
       "    }\n",
       "\n",
       "    .dataframe tbody tr th {\n",
       "        vertical-align: top;\n",
       "    }\n",
       "\n",
       "    .dataframe thead th {\n",
       "        text-align: right;\n",
       "    }\n",
       "</style>\n",
       "<table border=\"1\" class=\"dataframe\">\n",
       "  <thead>\n",
       "    <tr style=\"text-align: right;\">\n",
       "      <th></th>\n",
       "      <th>coord</th>\n",
       "      <th>weather</th>\n",
       "      <th>base</th>\n",
       "      <th>main</th>\n",
       "      <th>visibility</th>\n",
       "      <th>wind</th>\n",
       "      <th>clouds</th>\n",
       "      <th>dt</th>\n",
       "      <th>sys</th>\n",
       "      <th>timezone</th>\n",
       "      <th>id</th>\n",
       "      <th>name</th>\n",
       "      <th>cod</th>\n",
       "      <th>rain</th>\n",
       "      <th>message</th>\n",
       "    </tr>\n",
       "  </thead>\n",
       "  <tbody>\n",
       "    <tr>\n",
       "      <th>0</th>\n",
       "      <td>{'lon': 114.6, 'lat': -28.77}</td>\n",
       "      <td>[{'id': 802, 'main': 'Clouds', 'description': ...</td>\n",
       "      <td>stations</td>\n",
       "      <td>{'temp': 281.15, 'feels_like': 277.22, 'temp_m...</td>\n",
       "      <td>10000.0</td>\n",
       "      <td>{'speed': 4.6, 'deg': 130}</td>\n",
       "      <td>{'all': 26}</td>\n",
       "      <td>1.596328e+09</td>\n",
       "      <td>{'type': 1, 'id': 9522, 'country': 'AU', 'sunr...</td>\n",
       "      <td>28800.0</td>\n",
       "      <td>2070998.0</td>\n",
       "      <td>Geraldton</td>\n",
       "      <td>200</td>\n",
       "      <td>NaN</td>\n",
       "      <td>NaN</td>\n",
       "    </tr>\n",
       "    <tr>\n",
       "      <th>1</th>\n",
       "      <td>{'lon': -139.03, 'lat': -9.8}</td>\n",
       "      <td>[{'id': 500, 'main': 'Rain', 'description': 'l...</td>\n",
       "      <td>stations</td>\n",
       "      <td>{'temp': 299.64, 'feels_like': 298.68, 'temp_m...</td>\n",
       "      <td>10000.0</td>\n",
       "      <td>{'speed': 7.53, 'deg': 92}</td>\n",
       "      <td>{'all': 97}</td>\n",
       "      <td>1.596328e+09</td>\n",
       "      <td>{'country': 'PF', 'sunrise': 1596295891, 'suns...</td>\n",
       "      <td>-34200.0</td>\n",
       "      <td>4020109.0</td>\n",
       "      <td>Atuona</td>\n",
       "      <td>200</td>\n",
       "      <td>{'1h': 0.11}</td>\n",
       "      <td>NaN</td>\n",
       "    </tr>\n",
       "    <tr>\n",
       "      <th>2</th>\n",
       "      <td>{'lon': 100.34, 'lat': 5.41}</td>\n",
       "      <td>[{'id': 500, 'main': 'Rain', 'description': 'l...</td>\n",
       "      <td>stations</td>\n",
       "      <td>{'temp': 297.63, 'feels_like': 301.66, 'temp_m...</td>\n",
       "      <td>6000.0</td>\n",
       "      <td>{'speed': 2.1, 'deg': 70}</td>\n",
       "      <td>{'all': 40}</td>\n",
       "      <td>1.596328e+09</td>\n",
       "      <td>{'type': 1, 'id': 9429, 'country': 'MY', 'sunr...</td>\n",
       "      <td>28800.0</td>\n",
       "      <td>1735106.0</td>\n",
       "      <td>George Town</td>\n",
       "      <td>200</td>\n",
       "      <td>NaN</td>\n",
       "      <td>NaN</td>\n",
       "    </tr>\n",
       "    <tr>\n",
       "      <th>3</th>\n",
       "      <td>{'lon': -73.97, 'lat': 42.6}</td>\n",
       "      <td>[{'id': 803, 'main': 'Clouds', 'description': ...</td>\n",
       "      <td>stations</td>\n",
       "      <td>{'temp': 298.24, 'feels_like': 299.56, 'temp_m...</td>\n",
       "      <td>10000.0</td>\n",
       "      <td>{'speed': 0.49, 'deg': 183}</td>\n",
       "      <td>{'all': 76}</td>\n",
       "      <td>1.596328e+09</td>\n",
       "      <td>{'type': 3, 'id': 19530, 'country': 'US', 'sun...</td>\n",
       "      <td>-14400.0</td>\n",
       "      <td>5106841.0</td>\n",
       "      <td>Albany</td>\n",
       "      <td>200</td>\n",
       "      <td>NaN</td>\n",
       "      <td>NaN</td>\n",
       "    </tr>\n",
       "    <tr>\n",
       "      <th>4</th>\n",
       "      <td>NaN</td>\n",
       "      <td>NaN</td>\n",
       "      <td>NaN</td>\n",
       "      <td>NaN</td>\n",
       "      <td>NaN</td>\n",
       "      <td>NaN</td>\n",
       "      <td>NaN</td>\n",
       "      <td>NaN</td>\n",
       "      <td>NaN</td>\n",
       "      <td>NaN</td>\n",
       "      <td>NaN</td>\n",
       "      <td>NaN</td>\n",
       "      <td>404</td>\n",
       "      <td>NaN</td>\n",
       "      <td>city not found</td>\n",
       "    </tr>\n",
       "    <tr>\n",
       "      <th>...</th>\n",
       "      <td>...</td>\n",
       "      <td>...</td>\n",
       "      <td>...</td>\n",
       "      <td>...</td>\n",
       "      <td>...</td>\n",
       "      <td>...</td>\n",
       "      <td>...</td>\n",
       "      <td>...</td>\n",
       "      <td>...</td>\n",
       "      <td>...</td>\n",
       "      <td>...</td>\n",
       "      <td>...</td>\n",
       "      <td>...</td>\n",
       "      <td>...</td>\n",
       "      <td>...</td>\n",
       "    </tr>\n",
       "    <tr>\n",
       "      <th>592</th>\n",
       "      <td>NaN</td>\n",
       "      <td>NaN</td>\n",
       "      <td>NaN</td>\n",
       "      <td>NaN</td>\n",
       "      <td>NaN</td>\n",
       "      <td>NaN</td>\n",
       "      <td>NaN</td>\n",
       "      <td>NaN</td>\n",
       "      <td>NaN</td>\n",
       "      <td>NaN</td>\n",
       "      <td>NaN</td>\n",
       "      <td>NaN</td>\n",
       "      <td>404</td>\n",
       "      <td>NaN</td>\n",
       "      <td>city not found</td>\n",
       "    </tr>\n",
       "    <tr>\n",
       "      <th>593</th>\n",
       "      <td>{'lon': 16.93, 'lat': -12.38}</td>\n",
       "      <td>[{'id': 800, 'main': 'Clear', 'description': '...</td>\n",
       "      <td>stations</td>\n",
       "      <td>{'temp': 286.03, 'feels_like': 282.41, 'temp_m...</td>\n",
       "      <td>10000.0</td>\n",
       "      <td>{'speed': 2.95, 'deg': 118}</td>\n",
       "      <td>{'all': 0}</td>\n",
       "      <td>1.596328e+09</td>\n",
       "      <td>{'country': 'AO', 'sunrise': 1596345055, 'suns...</td>\n",
       "      <td>3600.0</td>\n",
       "      <td>3348078.0</td>\n",
       "      <td>Kuito</td>\n",
       "      <td>200</td>\n",
       "      <td>NaN</td>\n",
       "      <td>NaN</td>\n",
       "    </tr>\n",
       "    <tr>\n",
       "      <th>594</th>\n",
       "      <td>{'lon': -0.13, 'lat': 51.51}</td>\n",
       "      <td>[{'id': 803, 'main': 'Clouds', 'description': ...</td>\n",
       "      <td>stations</td>\n",
       "      <td>{'temp': 290.06, 'feels_like': 285.56, 'temp_m...</td>\n",
       "      <td>10000.0</td>\n",
       "      <td>{'speed': 5.7, 'deg': 300}</td>\n",
       "      <td>{'all': 54}</td>\n",
       "      <td>1.596328e+09</td>\n",
       "      <td>{'type': 1, 'id': 1414, 'country': 'GB', 'sunr...</td>\n",
       "      <td>3600.0</td>\n",
       "      <td>2643743.0</td>\n",
       "      <td>London</td>\n",
       "      <td>200</td>\n",
       "      <td>NaN</td>\n",
       "      <td>NaN</td>\n",
       "    </tr>\n",
       "    <tr>\n",
       "      <th>595</th>\n",
       "      <td>{'lon': 128.65, 'lat': 47.72}</td>\n",
       "      <td>[{'id': 804, 'main': 'Clouds', 'description': ...</td>\n",
       "      <td>stations</td>\n",
       "      <td>{'temp': 298.31, 'feels_like': 301.92, 'temp_m...</td>\n",
       "      <td>10000.0</td>\n",
       "      <td>{'speed': 1.9, 'deg': 209}</td>\n",
       "      <td>{'all': 89}</td>\n",
       "      <td>1.596328e+09</td>\n",
       "      <td>{'country': 'CN', 'sunrise': 1596312220, 'suns...</td>\n",
       "      <td>28800.0</td>\n",
       "      <td>2033413.0</td>\n",
       "      <td>Cuiluan</td>\n",
       "      <td>200</td>\n",
       "      <td>NaN</td>\n",
       "      <td>NaN</td>\n",
       "    </tr>\n",
       "    <tr>\n",
       "      <th>596</th>\n",
       "      <td>{'lon': 148.23, 'lat': -20.02}</td>\n",
       "      <td>[{'id': 804, 'main': 'Clouds', 'description': ...</td>\n",
       "      <td>stations</td>\n",
       "      <td>{'temp': 294.94, 'feels_like': 289.93, 'temp_m...</td>\n",
       "      <td>10000.0</td>\n",
       "      <td>{'speed': 9.3, 'deg': 120}</td>\n",
       "      <td>{'all': 90}</td>\n",
       "      <td>1.596328e+09</td>\n",
       "      <td>{'type': 1, 'id': 9503, 'country': 'AU', 'sunr...</td>\n",
       "      <td>36000.0</td>\n",
       "      <td>2174444.0</td>\n",
       "      <td>Bowen</td>\n",
       "      <td>200</td>\n",
       "      <td>NaN</td>\n",
       "      <td>NaN</td>\n",
       "    </tr>\n",
       "  </tbody>\n",
       "</table>\n",
       "<p>597 rows × 15 columns</p>\n",
       "</div>"
      ],
      "text/plain": [
       "                              coord  \\\n",
       "0     {'lon': 114.6, 'lat': -28.77}   \n",
       "1     {'lon': -139.03, 'lat': -9.8}   \n",
       "2      {'lon': 100.34, 'lat': 5.41}   \n",
       "3      {'lon': -73.97, 'lat': 42.6}   \n",
       "4                               NaN   \n",
       "..                              ...   \n",
       "592                             NaN   \n",
       "593   {'lon': 16.93, 'lat': -12.38}   \n",
       "594    {'lon': -0.13, 'lat': 51.51}   \n",
       "595   {'lon': 128.65, 'lat': 47.72}   \n",
       "596  {'lon': 148.23, 'lat': -20.02}   \n",
       "\n",
       "                                               weather      base  \\\n",
       "0    [{'id': 802, 'main': 'Clouds', 'description': ...  stations   \n",
       "1    [{'id': 500, 'main': 'Rain', 'description': 'l...  stations   \n",
       "2    [{'id': 500, 'main': 'Rain', 'description': 'l...  stations   \n",
       "3    [{'id': 803, 'main': 'Clouds', 'description': ...  stations   \n",
       "4                                                  NaN       NaN   \n",
       "..                                                 ...       ...   \n",
       "592                                                NaN       NaN   \n",
       "593  [{'id': 800, 'main': 'Clear', 'description': '...  stations   \n",
       "594  [{'id': 803, 'main': 'Clouds', 'description': ...  stations   \n",
       "595  [{'id': 804, 'main': 'Clouds', 'description': ...  stations   \n",
       "596  [{'id': 804, 'main': 'Clouds', 'description': ...  stations   \n",
       "\n",
       "                                                  main  visibility  \\\n",
       "0    {'temp': 281.15, 'feels_like': 277.22, 'temp_m...     10000.0   \n",
       "1    {'temp': 299.64, 'feels_like': 298.68, 'temp_m...     10000.0   \n",
       "2    {'temp': 297.63, 'feels_like': 301.66, 'temp_m...      6000.0   \n",
       "3    {'temp': 298.24, 'feels_like': 299.56, 'temp_m...     10000.0   \n",
       "4                                                  NaN         NaN   \n",
       "..                                                 ...         ...   \n",
       "592                                                NaN         NaN   \n",
       "593  {'temp': 286.03, 'feels_like': 282.41, 'temp_m...     10000.0   \n",
       "594  {'temp': 290.06, 'feels_like': 285.56, 'temp_m...     10000.0   \n",
       "595  {'temp': 298.31, 'feels_like': 301.92, 'temp_m...     10000.0   \n",
       "596  {'temp': 294.94, 'feels_like': 289.93, 'temp_m...     10000.0   \n",
       "\n",
       "                            wind       clouds            dt  \\\n",
       "0     {'speed': 4.6, 'deg': 130}  {'all': 26}  1.596328e+09   \n",
       "1     {'speed': 7.53, 'deg': 92}  {'all': 97}  1.596328e+09   \n",
       "2      {'speed': 2.1, 'deg': 70}  {'all': 40}  1.596328e+09   \n",
       "3    {'speed': 0.49, 'deg': 183}  {'all': 76}  1.596328e+09   \n",
       "4                            NaN          NaN           NaN   \n",
       "..                           ...          ...           ...   \n",
       "592                          NaN          NaN           NaN   \n",
       "593  {'speed': 2.95, 'deg': 118}   {'all': 0}  1.596328e+09   \n",
       "594   {'speed': 5.7, 'deg': 300}  {'all': 54}  1.596328e+09   \n",
       "595   {'speed': 1.9, 'deg': 209}  {'all': 89}  1.596328e+09   \n",
       "596   {'speed': 9.3, 'deg': 120}  {'all': 90}  1.596328e+09   \n",
       "\n",
       "                                                   sys  timezone         id  \\\n",
       "0    {'type': 1, 'id': 9522, 'country': 'AU', 'sunr...   28800.0  2070998.0   \n",
       "1    {'country': 'PF', 'sunrise': 1596295891, 'suns...  -34200.0  4020109.0   \n",
       "2    {'type': 1, 'id': 9429, 'country': 'MY', 'sunr...   28800.0  1735106.0   \n",
       "3    {'type': 3, 'id': 19530, 'country': 'US', 'sun...  -14400.0  5106841.0   \n",
       "4                                                  NaN       NaN        NaN   \n",
       "..                                                 ...       ...        ...   \n",
       "592                                                NaN       NaN        NaN   \n",
       "593  {'country': 'AO', 'sunrise': 1596345055, 'suns...    3600.0  3348078.0   \n",
       "594  {'type': 1, 'id': 1414, 'country': 'GB', 'sunr...    3600.0  2643743.0   \n",
       "595  {'country': 'CN', 'sunrise': 1596312220, 'suns...   28800.0  2033413.0   \n",
       "596  {'type': 1, 'id': 9503, 'country': 'AU', 'sunr...   36000.0  2174444.0   \n",
       "\n",
       "            name  cod          rain         message  \n",
       "0      Geraldton  200           NaN             NaN  \n",
       "1         Atuona  200  {'1h': 0.11}             NaN  \n",
       "2    George Town  200           NaN             NaN  \n",
       "3         Albany  200           NaN             NaN  \n",
       "4            NaN  404           NaN  city not found  \n",
       "..           ...  ...           ...             ...  \n",
       "592          NaN  404           NaN  city not found  \n",
       "593        Kuito  200           NaN             NaN  \n",
       "594       London  200           NaN             NaN  \n",
       "595      Cuiluan  200           NaN             NaN  \n",
       "596        Bowen  200           NaN             NaN  \n",
       "\n",
       "[597 rows x 15 columns]"
      ]
     },
     "execution_count": 35,
     "metadata": {},
     "output_type": "execute_result"
    }
   ],
   "source": [
    "w_df = pd.DataFrame(res)\n",
    "w_df"
   ]
  },
  {
   "cell_type": "markdown",
   "metadata": {},
   "source": [
    "## Inspect the data and remove the cities where the humidity > 100%.\n",
    "----\n",
    "Skip this step if there are no cities that have humidity > 100%. "
   ]
  },
  {
   "cell_type": "code",
   "execution_count": null,
   "metadata": {},
   "outputs": [],
   "source": []
  },
  {
   "cell_type": "code",
   "execution_count": null,
   "metadata": {},
   "outputs": [],
   "source": [
    "#  Get the indices of cities that have humidity over 100%.\n"
   ]
  },
  {
   "cell_type": "code",
   "execution_count": null,
   "metadata": {},
   "outputs": [],
   "source": [
    "# Make a new DataFrame equal to the city data to drop all humidity outliers by index.\n",
    "# Passing \"inplace=False\" will make a copy of the city_data DataFrame, which we call \"clean_city_data\".\n"
   ]
  },
  {
   "cell_type": "code",
   "execution_count": null,
   "metadata": {},
   "outputs": [],
   "source": [
    "# Extract relevant fields from the data frame\n",
    "\n",
    "\n",
    "# Export the City_Data into a csv\n"
   ]
  },
  {
   "cell_type": "markdown",
   "metadata": {},
   "source": [
    "## Plotting the Data\n",
    "* Use proper labeling of the plots using plot titles (including date of analysis) and axes labels.\n",
    "* Save the plotted figures as .pngs."
   ]
  },
  {
   "cell_type": "markdown",
   "metadata": {},
   "source": [
    "## Latitude vs. Temperature Plot"
   ]
  },
  {
   "cell_type": "code",
   "execution_count": null,
   "metadata": {
    "scrolled": true
   },
   "outputs": [],
   "source": []
  },
  {
   "cell_type": "markdown",
   "metadata": {},
   "source": [
    "## Latitude vs. Humidity Plot"
   ]
  },
  {
   "cell_type": "code",
   "execution_count": null,
   "metadata": {},
   "outputs": [],
   "source": []
  },
  {
   "cell_type": "markdown",
   "metadata": {},
   "source": [
    "## Latitude vs. Cloudiness Plot"
   ]
  },
  {
   "cell_type": "code",
   "execution_count": null,
   "metadata": {},
   "outputs": [],
   "source": []
  },
  {
   "cell_type": "markdown",
   "metadata": {},
   "source": [
    "## Latitude vs. Wind Speed Plot"
   ]
  },
  {
   "cell_type": "code",
   "execution_count": null,
   "metadata": {},
   "outputs": [],
   "source": []
  },
  {
   "cell_type": "markdown",
   "metadata": {},
   "source": [
    "## Linear Regression"
   ]
  },
  {
   "cell_type": "code",
   "execution_count": null,
   "metadata": {},
   "outputs": [],
   "source": [
    "# OPTIONAL: Create a function to create Linear Regression plots"
   ]
  },
  {
   "cell_type": "code",
   "execution_count": null,
   "metadata": {},
   "outputs": [],
   "source": [
    "# Create Northern and Southern Hemisphere DataFrames"
   ]
  },
  {
   "cell_type": "markdown",
   "metadata": {},
   "source": [
    "####  Northern Hemisphere - Max Temp vs. Latitude Linear Regression"
   ]
  },
  {
   "cell_type": "code",
   "execution_count": null,
   "metadata": {},
   "outputs": [],
   "source": []
  },
  {
   "cell_type": "markdown",
   "metadata": {},
   "source": [
    "####  Southern Hemisphere - Max Temp vs. Latitude Linear Regression"
   ]
  },
  {
   "cell_type": "code",
   "execution_count": null,
   "metadata": {},
   "outputs": [],
   "source": []
  },
  {
   "cell_type": "markdown",
   "metadata": {},
   "source": [
    "####  Northern Hemisphere - Humidity (%) vs. Latitude Linear Regression"
   ]
  },
  {
   "cell_type": "code",
   "execution_count": null,
   "metadata": {},
   "outputs": [],
   "source": []
  },
  {
   "cell_type": "markdown",
   "metadata": {},
   "source": [
    "####  Southern Hemisphere - Humidity (%) vs. Latitude Linear Regression"
   ]
  },
  {
   "cell_type": "code",
   "execution_count": null,
   "metadata": {},
   "outputs": [],
   "source": []
  },
  {
   "cell_type": "markdown",
   "metadata": {},
   "source": [
    "####  Northern Hemisphere - Cloudiness (%) vs. Latitude Linear Regression"
   ]
  },
  {
   "cell_type": "code",
   "execution_count": null,
   "metadata": {},
   "outputs": [],
   "source": []
  },
  {
   "cell_type": "markdown",
   "metadata": {},
   "source": [
    "####  Southern Hemisphere - Cloudiness (%) vs. Latitude Linear Regression"
   ]
  },
  {
   "cell_type": "code",
   "execution_count": null,
   "metadata": {},
   "outputs": [],
   "source": []
  },
  {
   "cell_type": "markdown",
   "metadata": {},
   "source": [
    "####  Northern Hemisphere - Wind Speed (mph) vs. Latitude Linear Regression"
   ]
  },
  {
   "cell_type": "code",
   "execution_count": null,
   "metadata": {},
   "outputs": [],
   "source": []
  },
  {
   "cell_type": "markdown",
   "metadata": {},
   "source": [
    "####  Southern Hemisphere - Wind Speed (mph) vs. Latitude Linear Regression"
   ]
  },
  {
   "cell_type": "code",
   "execution_count": null,
   "metadata": {},
   "outputs": [],
   "source": []
  },
  {
   "cell_type": "code",
   "execution_count": null,
   "metadata": {},
   "outputs": [],
   "source": []
  }
 ],
 "metadata": {
  "anaconda-cloud": {},
  "kernel_info": {
   "name": "python3"
  },
  "kernelspec": {
   "display_name": "Python [conda env:PythonData1]",
   "language": "python",
   "name": "conda-env-PythonData1-py"
  },
  "language_info": {
   "codemirror_mode": {
    "name": "ipython",
    "version": 3
   },
   "file_extension": ".py",
   "mimetype": "text/x-python",
   "name": "python",
   "nbconvert_exporter": "python",
   "pygments_lexer": "ipython3",
   "version": "3.6.10"
  },
  "latex_envs": {
   "LaTeX_envs_menu_present": true,
   "autoclose": false,
   "autocomplete": true,
   "bibliofile": "biblio.bib",
   "cite_by": "apalike",
   "current_citInitial": 1,
   "eqLabelWithNumbers": true,
   "eqNumInitial": 1,
   "hotkeys": {
    "equation": "Ctrl-E",
    "itemize": "Ctrl-I"
   },
   "labels_anchors": false,
   "latex_user_defs": false,
   "report_style_numbering": false,
   "user_envs_cfg": false
  },
  "nteract": {
   "version": "0.12.3"
  }
 },
 "nbformat": 4,
 "nbformat_minor": 2
}
